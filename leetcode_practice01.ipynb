{
 "cells": [
  {
   "cell_type": "markdown",
   "metadata": {},
   "source": [
    "ARRAY AND HASHING"
   ]
  },
  {
   "cell_type": "markdown",
   "metadata": {},
   "source": [
    "1. Two sum"
   ]
  },
  {
   "cell_type": "code",
   "execution_count": 1,
   "metadata": {},
   "outputs": [],
   "source": [
    "#Two sum\n",
    "\n",
    "# Given an array of integers nums and an integer target, return indices of the two numbers such that they add up to target.\n",
    "\n",
    "# You may assume that each input would have exactly one solution, and you may not use the same element twice.\n",
    "\n",
    "# You can return the answer in any order\n",
    "# Example 1:\n",
    "\n",
    "# Input: nums = [2,7,11,15], target = 9\n",
    "# Output: [0,1]\n",
    "# Explanation: Because nums[0] + nums[1] == 9, we return [0, 1]."
   ]
  },
  {
   "cell_type": "code",
   "execution_count": 2,
   "metadata": {},
   "outputs": [
    {
     "name": "stdout",
     "output_type": "stream",
     "text": [
      "1 3\n"
     ]
    }
   ],
   "source": [
    "nums = [2,1,5,3]\n",
    "target = 4\n",
    "for x in range(len(nums)):\n",
    "            for y in range(x+1,len(nums)):\n",
    "                if nums[x]+nums[y] == target: \n",
    "                        print(x,y)"
   ]
  },
  {
   "cell_type": "code",
   "execution_count": 3,
   "metadata": {},
   "outputs": [
    {
     "name": "stdout",
     "output_type": "stream",
     "text": [
      "[1, 3]\n"
     ]
    }
   ],
   "source": [
    "nums = [2,1,5,3]\n",
    "target = 4\n",
    "hm = {}\n",
    "for index,value in enumerate(nums):\n",
    "        b=target-value\n",
    "        if b in hm:\n",
    "            print([hm[b],index])\n",
    "        else:\n",
    "            hm[value]=index          \n"
   ]
  },
  {
   "cell_type": "code",
   "execution_count": 4,
   "metadata": {},
   "outputs": [
    {
     "name": "stdout",
     "output_type": "stream",
     "text": [
      "2\n",
      "7\n",
      "11\n",
      "15\n"
     ]
    }
   ],
   "source": [
    "nums = [2,7,11,15]\n",
    "for index,value in enumerate(nums):\n",
    "    print(value)"
   ]
  },
  {
   "cell_type": "markdown",
   "metadata": {},
   "source": [
    "2. Contains Duplicate"
   ]
  },
  {
   "cell_type": "code",
   "execution_count": 5,
   "metadata": {},
   "outputs": [],
   "source": [
    "#Contains Duplicate\n",
    "\n",
    "# Given an integer array nums, return true if any value appears at least twice in the array, and return false if every element is distinct.\n",
    "\n",
    "# Example 1:\n",
    "\n",
    "# Input: nums = [1,2,3,1]\n",
    "# Output: true"
   ]
  },
  {
   "cell_type": "code",
   "execution_count": 6,
   "metadata": {},
   "outputs": [
    {
     "name": "stdout",
     "output_type": "stream",
     "text": [
      "{2: 1, 14: 1, 18: 1, 22: 2}\n",
      "1\n"
     ]
    }
   ],
   "source": [
    "nums=[2,14,18,22,22]\n",
    "n=len(nums)\n",
    "dict={}\n",
    "for i in range(len(nums)):\n",
    "    if nums[i] not in dict:\n",
    "        dict[nums[i]]=1\n",
    "    else:\n",
    "        dict[nums[i]]+=1\n",
    "print(dict)\n",
    "res=[]\n",
    "for i in range(n):\n",
    "    res.append(dict[nums[i]])\n",
    "if max(res)>1:\n",
    "    print(1)\n",
    "else:\n",
    "    print(0)"
   ]
  },
  {
   "cell_type": "code",
   "execution_count": 7,
   "metadata": {},
   "outputs": [
    {
     "name": "stdout",
     "output_type": "stream",
     "text": [
      "1\n",
      "0\n"
     ]
    }
   ],
   "source": [
    "nums=[2,14,18,22,22]\n",
    "n=len(nums)\n",
    "for i in nums:\n",
    "    c=nums.count(i)\n",
    "    if c>1:\n",
    "        print(1)\n",
    "        break\n",
    "print(0)"
   ]
  },
  {
   "cell_type": "code",
   "execution_count": 8,
   "metadata": {},
   "outputs": [
    {
     "name": "stdout",
     "output_type": "stream",
     "text": [
      "True\n",
      "False\n"
     ]
    }
   ],
   "source": [
    "nums = [1,1,1,3,3,4,3,2,4,2]\n",
    "hashset=set()\n",
    "for i in nums:\n",
    "    if i not in hashset:\n",
    "        hashset.add(i)\n",
    "    else:\n",
    "        print(True)\n",
    "        break\n",
    "print(False)"
   ]
  },
  {
   "cell_type": "markdown",
   "metadata": {},
   "source": [
    "3. Valid anagram"
   ]
  },
  {
   "cell_type": "code",
   "execution_count": 9,
   "metadata": {},
   "outputs": [],
   "source": [
    "#Valid anagram\n",
    "\n",
    "\n",
    "# Given two strings s and t, return true if t is an anagram of s, and false otherwise.\n",
    "\n",
    "# An Anagram is a word or phrase formed by rearranging the letters of a different word or phrase, typically using all the original letters exactly once.\n",
    "\n",
    "# Example 1:\n",
    "\n",
    "# Input: s = \"anagram\", t = \"nagaram\"\n",
    "# Output: true"
   ]
  },
  {
   "cell_type": "code",
   "execution_count": 10,
   "metadata": {},
   "outputs": [
    {
     "name": "stdout",
     "output_type": "stream",
     "text": [
      "1\n"
     ]
    }
   ],
   "source": [
    "s=\"anagram\"\n",
    "t =\"nagaram\"\n",
    "s=sorted(s)\n",
    "t=sorted(t)\n",
    "if len(s)!=len(t):\n",
    "    print(0)\n",
    "else:\n",
    "    for i in s:\n",
    "        c1=s.count(i)\n",
    "        if i not in t:\n",
    "            print(0)\n",
    "            break\n",
    "        else:\n",
    "            c2=t.count(i)\n",
    "            if c1!=c2:\n",
    "                print(0)\n",
    "                break\n",
    "print(1)\n"
   ]
  },
  {
   "cell_type": "code",
   "execution_count": 11,
   "metadata": {},
   "outputs": [
    {
     "name": "stdout",
     "output_type": "stream",
     "text": [
      "aaagmnr\n",
      "aaagmnr\n",
      "1\n"
     ]
    }
   ],
   "source": [
    "s=\"anagram\"\n",
    "t =\"nagaram\"\n",
    "s=''.join(sorted(s))\n",
    "t=''.join(sorted(t))\n",
    "print(s)\n",
    "print(t)\n",
    "if s!=t:\n",
    "    print(0)\n",
    "print(1)"
   ]
  },
  {
   "cell_type": "code",
   "execution_count": 24,
   "metadata": {},
   "outputs": [
    {
     "name": "stdout",
     "output_type": "stream",
     "text": [
      "{'a': 3, 'n': 1, 'g': 1, 'r': 1, 'm': 1}\n",
      "{'n': 1, 'a': 3, 'g': 1, 'r': 1, 'm': 1}\n",
      "True\n"
     ]
    }
   ],
   "source": [
    "s =\"anagram\"\n",
    "t =\"nagaram\"\n",
    "if len(s) != len(t):\n",
    "    print(False)\n",
    "countS={}\n",
    "countT={}\n",
    "for i in range(len(s)):\n",
    "    countS[s[i]]=1 + countS.get(s[i],0) #if s[i] this key does not exist in hmap then it will return default value 0\n",
    "    countT[t[i]]=1 + countT.get(t[i],0)\n",
    "print(countS)\n",
    "print(countT)\n",
    "for c in countS:\n",
    "    if countS[c] != countT.get(c,0): #if the key does not exist in t\n",
    "        print(False)\n",
    "print(True)"
   ]
  },
  {
   "cell_type": "code",
   "execution_count": 25,
   "metadata": {},
   "outputs": [
    {
     "name": "stdout",
     "output_type": "stream",
     "text": [
      "{'a': 3, 'n': 1, 'g': 1, 'r': 1, 'm': 1}\n"
     ]
    }
   ],
   "source": [
    "s =\"anagram\"\n",
    "t =\"nagaram\"\n",
    "if len(s) != len(t):\n",
    "    print(False)\n",
    "countS={}\n",
    "countT={}\n",
    "for i in range(len(s)):\n",
    "    if s[i] not in countS:\n",
    "        countS[s[i]]=1\n",
    "    else:\n",
    "        countS[s[i]]+=1\n",
    "print(countS)"
   ]
  },
  {
   "cell_type": "markdown",
   "metadata": {},
   "source": [
    "4. Group Anagrams"
   ]
  },
  {
   "cell_type": "code",
   "execution_count": 13,
   "metadata": {},
   "outputs": [],
   "source": [
    "#Group Anagrams\n",
    "\n",
    "\n",
    "# Given an array of strings strs, group the anagrams together. You can return the answer in any order.\n",
    "\n",
    "# An Anagram is a word or phrase formed by rearranging the letters of a different word or phrase, typically using all the original letters exactly once.\n",
    "\n",
    " \n",
    "\n",
    "# Example 1:\n",
    "\n",
    "# Input: strs = [\"eat\",\"tea\",\"tan\",\"ate\",\"nat\",\"bat\"]\n",
    "# Output: [[\"bat\"],[\"nat\",\"tan\"],[\"ate\",\"eat\",\"tea\"]]"
   ]
  },
  {
   "cell_type": "code",
   "execution_count": 14,
   "metadata": {},
   "outputs": [
    {
     "name": "stdout",
     "output_type": "stream",
     "text": [
      "aet\n",
      "aet\n",
      "ant\n",
      "aet\n",
      "ant\n",
      "abt\n",
      "{'aet': ['eat', 'tea', 'ate'], 'ant': ['tan', 'nat'], 'abt': ['bat']}\n",
      "[['eat', 'tea', 'ate'], ['tan', 'nat'], ['bat']]\n"
     ]
    }
   ],
   "source": [
    "strs = [\"eat\",\"tea\",\"tan\",\"ate\",\"nat\",\"bat\"]\n",
    "dict={}\n",
    "for i in strs:\n",
    "    sortedword=''.join(sorted(i))\n",
    "    print(sortedword)\n",
    "    if sortedword not in dict:\n",
    "        dict[sortedword]=[i]\n",
    "    else:\n",
    "        dict[sortedword].append(i)\n",
    "print(dict)\n",
    "res=[]\n",
    "for key,values in dict.items():\n",
    "    res.append(values)\n",
    "print(res)"
   ]
  },
  {
   "cell_type": "markdown",
   "metadata": {},
   "source": [
    "5. Top K Frequent Elements"
   ]
  },
  {
   "cell_type": "code",
   "execution_count": 15,
   "metadata": {},
   "outputs": [],
   "source": [
    "# Top K Frequent Elements\n",
    "\n",
    "\n",
    "# Given an integer array nums and an integer k, return the k most frequent elements. You may return the answer in any order.\n",
    "\n",
    "# Example 1:\n",
    "\n",
    "# Input: nums = [1,1,1,2,2,3], k = 2\n",
    "# Output: [1,2]"
   ]
  },
  {
   "cell_type": "code",
   "execution_count": 1,
   "metadata": {},
   "outputs": [
    {
     "name": "stdout",
     "output_type": "stream",
     "text": [
      "{1: 3, 2: 1, 3: 2}\n",
      "{3: [1], 1: [2], 2: [3]}\n",
      "[1, 3]\n"
     ]
    }
   ],
   "source": [
    "arr=[1,1,1,2,3,3]\n",
    "k=2\n",
    "hmap={}\n",
    "freq={}\n",
    "res=[]\n",
    "#creating map of no to count\n",
    "for i in range(len(arr)):\n",
    "    if arr[i] not in hmap:\n",
    "        hmap[arr[i]]=1\n",
    "    else:\n",
    "        hmap[arr[i]]+=1\n",
    "print(hmap)\n",
    "#creating map of count to no\n",
    "for key,values in hmap.items():\n",
    "    if values not in freq:\n",
    "        freq[values]=[key]\n",
    "    else:\n",
    "        freq[values].append(key)\n",
    "print(freq)\n",
    "#for finding max frequencies iterating negative in len of arr\n",
    "for i in range(len(arr),-1,-1):\n",
    "    if i in freq:\n",
    "        res.extend(freq[i])\n",
    "    if len(res)>=k:\n",
    "        break\n",
    "print(res)"
   ]
  },
  {
   "cell_type": "markdown",
   "metadata": {},
   "source": [
    "6. Product of Array Except Self"
   ]
  },
  {
   "cell_type": "code",
   "execution_count": 17,
   "metadata": {},
   "outputs": [],
   "source": [
    "# Product of Array Except Self\n",
    "\n",
    "\n",
    "# Given an integer array nums, return an array answer such that answer[i] is equal to the product of all the elements of nums except nums[i].\n",
    "\n",
    "# The product of any prefix or suffix of nums is guaranteed to fit in a 32-bit integer.\n",
    "\n",
    "# You must write an algorithm that runs in O(n) time and without using the division operation.\n",
    "\n",
    " \n",
    "\n",
    "# Example 1:\n",
    "\n",
    "# Input: nums = [1,2,3,4]\n",
    "# Output: [24,12,8,6]"
   ]
  },
  {
   "cell_type": "code",
   "execution_count": 18,
   "metadata": {},
   "outputs": [
    {
     "name": "stdout",
     "output_type": "stream",
     "text": [
      "[1, 1, 1, 1]\n",
      "[1, 1, 2, 6]\n",
      "[24, 12, 8, 6]\n"
     ]
    }
   ],
   "source": [
    "nums=[1,2,3,4]\n",
    "n=len(nums)\n",
    "res=[1]*n\n",
    "print(res)\n",
    "prefix=1\n",
    "for i in range(n):\n",
    "    res[i]=prefix\n",
    "    prefix=prefix*nums[i]\n",
    "print(res)\n",
    "postfix=1\n",
    "for i in range(n-1,-1,-1):\n",
    "    res[i]=res[i]*postfix\n",
    "    postfix=postfix*nums[i]\n",
    "print(res)"
   ]
  },
  {
   "cell_type": "code",
   "execution_count": 19,
   "metadata": {},
   "outputs": [
    {
     "name": "stdout",
     "output_type": "stream",
     "text": [
      "[24, 12, 8, 6]\n"
     ]
    }
   ],
   "source": [
    "import math\n",
    "nums=[1,2,3,4]\n",
    "res=[]\n",
    "p=math.prod(nums)\n",
    "for i in range(len(nums)):\n",
    "    x=p//nums[i]\n",
    "    res.append(x)\n",
    "print(res)"
   ]
  },
  {
   "cell_type": "markdown",
   "metadata": {},
   "source": [
    "7. Longest Consecutive Sequence"
   ]
  },
  {
   "cell_type": "code",
   "execution_count": 20,
   "metadata": {},
   "outputs": [],
   "source": [
    "#LONGEST CONSECUTIVE SEQUENCE\n",
    "\n",
    "\n",
    "\n",
    "# Given an unsorted array of integers nums, return the length of the longest consecutive elements sequence.\n",
    "\n",
    "# You must write an algorithm that runs in O(n) time.\n",
    "\n",
    " \n",
    "\n",
    "# Example 1:\n",
    "\n",
    "# Input: nums = [100,4,200,1,3,2]\n",
    "# Output: 4\n",
    "# Explanation: The longest consecutive elements sequence is [1, 2, 3, 4]. Therefore its length is 4.\n"
   ]
  },
  {
   "cell_type": "code",
   "execution_count": 21,
   "metadata": {},
   "outputs": [
    {
     "name": "stdout",
     "output_type": "stream",
     "text": [
      "{1, 2, 3, 100, 4, 200}\n",
      "4\n"
     ]
    }
   ],
   "source": [
    "#converting list into set for removing duplicates and iterating\n",
    "nums = [100,4,200,1,3,2]\n",
    "numset=set(nums)  \n",
    "print(numset)\n",
    "longest=0\n",
    "for i in nums:\n",
    "    #checking the no is start of seq or not\n",
    "    if (i-1) not in numset:\n",
    "        length=0\n",
    "        while (i+length) in numset:\n",
    "            length+=1\n",
    "        longest=max(length,longest)\n",
    "print(longest)"
   ]
  },
  {
   "cell_type": "code",
   "execution_count": 22,
   "metadata": {},
   "outputs": [
    {
     "name": "stdout",
     "output_type": "stream",
     "text": [
      "The original list is : [0, 0, 1, 2, 3, 4, 5, 6, 7, 8]\n",
      "The list after removing duplicates : [0, 1, 2, 3, 4, 5, 6, 7, 8]\n"
     ]
    }
   ],
   "source": [
    "test_list = [0, 0, 1, 2, 3, 4, 5, 6, 7, 8]\n",
    "print (\"The original list is : \"\n",
    "        + str(test_list))\n",
    " \n",
    "# using set()\n",
    "# to remove duplicated\n",
    "# from list\n",
    "test_list = list(set(test_list))\n",
    " \n",
    "# printing list after removal\n",
    "# distorted ordering\n",
    "print (\"The list after removing duplicates : \"\n",
    "        + str(test_list))"
   ]
  },
  {
   "cell_type": "markdown",
   "metadata": {},
   "source": [
    "8. Encode and Decode Strings"
   ]
  },
  {
   "cell_type": "code",
   "execution_count": 23,
   "metadata": {},
   "outputs": [],
   "source": [
    "#Encode and Decode Strings \n",
    "\n",
    "\n",
    "# Description\n",
    "\n",
    "# Design an algorithm to encode a list of strings to a string. The encoded string is then sent over the network and is decoded back to the original list of strings.\n",
    "\n",
    "# Please implement encode and decode\n",
    "\n",
    "# Wechat reply 【Google】 get the latest requent Interview questions. (wechat id : jiuzhang1104)\n",
    "# Example\n",
    "\n",
    "# Example1\n",
    "\n",
    "# Input: [\"lint\",\"code\",\"love\",\"you\"]\n",
    "\n",
    "# Output: [\"lint\",\"code\",\"love\",\"you\"]\n",
    "\n",
    "# Explanation:\n",
    "\n",
    "# One possible encode method is: \"lint:;code:;love:;you\""
   ]
  },
  {
   "cell_type": "code",
   "execution_count": 24,
   "metadata": {},
   "outputs": [
    {
     "name": "stdout",
     "output_type": "stream",
     "text": [
      "4#lint4#code4#love3#you\n",
      "['lint', 'code', 'love', 'you']\n"
     ]
    }
   ],
   "source": [
    "# encode\n",
    "strs=[\"lint\",\"code\",\"love\",\"you\"]\n",
    "res=''\n",
    "for i in strs:\n",
    "    res+=str(len(i))+'#'+i\n",
    "print(res)\n",
    "strs=res\n",
    "#decode\n",
    "res=[]\n",
    "i=0\n",
    "while i<len(strs):\n",
    "    j=i\n",
    "    while strs[j]!='#':\n",
    "        j+=1   \n",
    "    length=int(strs[i:j])\n",
    "    res.append(strs[j+1:j+1+length])\n",
    "    i=j+1+length\n",
    "print(res)"
   ]
  },
  {
   "cell_type": "code",
   "execution_count": 25,
   "metadata": {},
   "outputs": [
    {
     "ename": "NameError",
     "evalue": "name 'List' is not defined",
     "output_type": "error",
     "traceback": [
      "\u001b[1;31m---------------------------------------------------------------------------\u001b[0m",
      "\u001b[1;31mNameError\u001b[0m                                 Traceback (most recent call last)",
      "Cell \u001b[1;32mIn[25], line 1\u001b[0m\n\u001b[1;32m----> 1\u001b[0m \u001b[38;5;28;43;01mclass\u001b[39;49;00m\u001b[43m \u001b[49m\u001b[38;5;21;43;01mSolution\u001b[39;49;00m\u001b[43m:\u001b[49m\n\u001b[0;32m      3\u001b[0m \u001b[43m    \u001b[49m\u001b[38;5;28;43;01mdef\u001b[39;49;00m\u001b[43m \u001b[49m\u001b[38;5;21;43mencode\u001b[39;49m\u001b[43m(\u001b[49m\u001b[38;5;28;43mself\u001b[39;49m\u001b[43m,\u001b[49m\u001b[43m \u001b[49m\u001b[43mstrs\u001b[49m\u001b[43m:\u001b[49m\u001b[43m \u001b[49m\u001b[43mList\u001b[49m\u001b[43m[\u001b[49m\u001b[38;5;28;43mstr\u001b[39;49m\u001b[43m]\u001b[49m\u001b[43m)\u001b[49m\u001b[43m \u001b[49m\u001b[38;5;241;43m-\u001b[39;49m\u001b[38;5;241;43m>\u001b[39;49m\u001b[43m \u001b[49m\u001b[38;5;28;43mstr\u001b[39;49m\u001b[43m:\u001b[49m\n\u001b[0;32m      4\u001b[0m \u001b[43m        \u001b[49m\u001b[43mres\u001b[49m\u001b[38;5;241;43m=\u001b[39;49m\u001b[38;5;124;43m'\u001b[39;49m\u001b[38;5;124;43m'\u001b[39;49m\n",
      "Cell \u001b[1;32mIn[25], line 3\u001b[0m, in \u001b[0;36mSolution\u001b[1;34m()\u001b[0m\n\u001b[0;32m      1\u001b[0m \u001b[38;5;28;01mclass\u001b[39;00m \u001b[38;5;21;01mSolution\u001b[39;00m:\n\u001b[1;32m----> 3\u001b[0m     \u001b[38;5;28;01mdef\u001b[39;00m \u001b[38;5;21mencode\u001b[39m(\u001b[38;5;28mself\u001b[39m, strs: \u001b[43mList\u001b[49m[\u001b[38;5;28mstr\u001b[39m]) \u001b[38;5;241m-\u001b[39m\u001b[38;5;241m>\u001b[39m \u001b[38;5;28mstr\u001b[39m:\n\u001b[0;32m      4\u001b[0m         res\u001b[38;5;241m=\u001b[39m\u001b[38;5;124m'\u001b[39m\u001b[38;5;124m'\u001b[39m\n\u001b[0;32m      5\u001b[0m         \u001b[38;5;28;01mfor\u001b[39;00m i \u001b[38;5;129;01min\u001b[39;00m strs:\n",
      "\u001b[1;31mNameError\u001b[0m: name 'List' is not defined"
     ]
    }
   ],
   "source": [
    "class Solution:\n",
    "\n",
    "    def encode(self, strs: List[str]) -> str:\n",
    "        res=''\n",
    "        for i in strs:\n",
    "            res+=str(len(strs)) + '#' + i\n",
    "        return res\n",
    "\n",
    "    def decode(self, s: str) -> List[str]:\n",
    "        res=[]\n",
    "        i=0\n",
    "        while i < len(s):\n",
    "            j=i\n",
    "            while s[j] != '#':\n",
    "                j+=1\n",
    "            length=int(s[i:j])\n",
    "            res.append(s[j+1 : j+1 + length])\n",
    "            i = j+1 + length\n",
    "        return res"
   ]
  },
  {
   "cell_type": "markdown",
   "metadata": {},
   "source": [
    "9. Valid Sudoku"
   ]
  },
  {
   "cell_type": "code",
   "execution_count": null,
   "metadata": {},
   "outputs": [],
   "source": [
    "# Valid Sudoku\n",
    "\n",
    "\n",
    "# Determine if a 9 x 9 Sudoku board is valid. Only the filled cells need to be validated according to the following rules:\n",
    "\n",
    "# Each row must contain the digits 1-9 without repetition.\n",
    "# Each column must contain the digits 1-9 without repetition.\n",
    "# Each of the nine 3 x 3 sub-boxes of the grid must contain the digits 1-9 without repetition.\n",
    "# Note:\n",
    "\n",
    "# A Sudoku board (partially filled) could be valid but is not necessarily solvable.\n",
    "# Only the filled cells need to be validated according to the mentioned rules.\n",
    "\n",
    "# board = \n",
    "# [[\"5\",\"3\",\".\",\".\",\"7\",\".\",\".\",\".\",\".\"]\n",
    "# ,[\"6\",\".\",\".\",\"1\",\"9\",\"5\",\".\",\".\",\".\"]\n",
    "# ,[\".\",\"9\",\"8\",\".\",\".\",\".\",\".\",\"6\",\".\"]\n",
    "# ,[\"8\",\".\",\".\",\".\",\"6\",\".\",\".\",\".\",\"3\"]\n",
    "# ,[\"4\",\".\",\".\",\"8\",\".\",\"3\",\".\",\".\",\"1\"]\n",
    "# ,[\"7\",\".\",\".\",\".\",\"2\",\".\",\".\",\".\",\"6\"]\n",
    "# ,[\".\",\"6\",\".\",\".\",\".\",\".\",\"2\",\"8\",\".\"]\n",
    "# ,[\".\",\".\",\".\",\"4\",\"1\",\"9\",\".\",\".\",\"5\"]\n",
    "# ,[\".\",\".\",\".\",\".\",\"8\",\".\",\".\",\"7\",\"9\"]]\n",
    "# Output: true"
   ]
  },
  {
   "cell_type": "code",
   "execution_count": null,
   "metadata": {},
   "outputs": [
    {
     "name": "stdout",
     "output_type": "stream",
     "text": [
      "8  3  .  .  7  .  .  .  .  \n",
      "6  .  .  1  9  5  .  .  .  \n",
      ".  9  8  .  .  .  .  6  .  \n",
      "8  .  .  .  6  .  .  .  3  \n",
      "4  .  .  8  .  3  .  .  1  \n",
      "7  .  .  .  2  .  .  .  6  \n",
      ".  6  .  .  .  .  2  8  .  \n",
      ".  .  .  4  1  9  .  .  5  \n",
      ".  .  .  .  8  .  .  7  9  \n",
      "False\n",
      "False\n",
      "defaultdict(<class 'set'>, {0: {'6', '4', '7', '8'}, 1: {'6', '3', '9'}, 4: {'7', '9', '2', '1', '8'}, 3: {'4', '1', '8'}, 5: {'5', '9', '3'}, 2: set(), 8: {'6', '5', '1', '9'}, 6: {'2'}, 7: {'7', '8'}})\n",
      "defaultdict(<class 'set'>, {0: {'3', '7', '8'}, 1: {'6', '5', '1', '9'}, 2: {'9'}, 3: set(), 4: {'4', '8', '3', '1'}, 5: {'6', '7', '2'}, 6: {'6', '8', '2'}, 7: {'5', '4', '1', '9'}, 8: {'7', '8', '9'}})\n",
      "defaultdict(<class 'set'>, {(0, 0): {'6', '3', '8', '9'}, (0, 1): {'5', '7', '1', '9'}, (1, 0): {'4', '7'}, (1, 1): {'3', '8', '2'}, (1, 2): {'6', '1'}, (2, 0): {'6'}, (2, 2): {'7', '9', '2', '5', '8'}, (2, 1): {'4', '1', '9', '8'}})\n",
      "True\n"
     ]
    }
   ],
   "source": [
    "import collections\n",
    "board =[[\"8\",\"3\",\".\",\".\",\"7\",\".\",\".\",\".\",\".\"]\n",
    ",[\"6\",\".\",\".\",\"1\",\"9\",\"5\",\".\",\".\",\".\"]\n",
    ",[\".\",\"9\",\"8\",\".\",\".\",\".\",\".\",\"6\",\".\"]\n",
    ",[\"8\",\".\",\".\",\".\",\"6\",\".\",\".\",\".\",\"3\"]\n",
    ",[\"4\",\".\",\".\",\"8\",\".\",\"3\",\".\",\".\",\"1\"]\n",
    ",[\"7\",\".\",\".\",\".\",\"2\",\".\",\".\",\".\",\"6\"]\n",
    ",[\".\",\"6\",\".\",\".\",\".\",\".\",\"2\",\"8\",\".\"]\n",
    ",[\".\",\".\",\".\",\"4\",\"1\",\"9\",\".\",\".\",\"5\"]\n",
    ",[\".\",\".\",\".\",\".\",\"8\",\".\",\".\",\"7\",\"9\"]]\n",
    "colmn=collections.defaultdict(set)\n",
    "rows=collections.defaultdict(set)\n",
    "sqrs=collections.defaultdict(set) #key=(r//3,c//3)\n",
    "for r in range(9):\n",
    "    for c in range(9):\n",
    "        print(board[r][c],end='  ')\n",
    "    print()\n",
    "for r in range(9):\n",
    "    for c in range(9):\n",
    "        if board[r][c]=='.':\n",
    "            continue\n",
    "        if (board[r][c] in rows[r] or board[r][c] in colmn[c] or board[r][c] in sqrs[r//3,c//3]):\n",
    "            print(False)\n",
    "            break\n",
    "        else:\n",
    "            colmn[c].add(board[r][c])\n",
    "            rows[r].add(board[r][c])\n",
    "            sqrs[(r//3,c//3)].add(board[r][c])\n",
    "print(colmn)\n",
    "print(rows)\n",
    "print(sqrs)\n",
    "\n",
    "print(True)"
   ]
  },
  {
   "cell_type": "code",
   "execution_count": null,
   "metadata": {},
   "outputs": [],
   "source": [
    "class Solution:\n",
    "    def isValidSudoku(self, board: List[List[str]]) -> bool:\n",
    "        cols=collections.defaultdict(set)\n",
    "        rows=collections.defaultdict(set)\n",
    "        squares=collections.defaultdict(set)\n",
    "\n",
    "        for r in range(9):\n",
    "            for c in range(9):\n",
    "                if board[r][c] == '.':\n",
    "                    continue\n",
    "                if (board[r][c] in rows[r] or board[r][c] in cols[c] or board[r][c] in squares[r//3,c//3]):\n",
    "                    return False\n",
    "                else:\n",
    "                    rows[r].add(board[r][c])\n",
    "                    cols[c].add(board[r][c])\n",
    "                    squares[r//3,c//3].add(board[r][c])\n",
    "        return True"
   ]
  },
  {
   "cell_type": "markdown",
   "metadata": {},
   "source": [
    "TWO POINTERS"
   ]
  },
  {
   "cell_type": "markdown",
   "metadata": {},
   "source": [
    "10. Valid Palindrome"
   ]
  },
  {
   "cell_type": "code",
   "execution_count": null,
   "metadata": {},
   "outputs": [],
   "source": [
    "#Valid Palindrome\n",
    "\n",
    "# A phrase is a palindrome if, after converting all uppercase letters into lowercase letters and removing all non-alphanumeric characters, it reads the same forward and backward. Alphanumeric characters include letters and numbers.\n",
    "\n",
    "# Given a string s, return true if it is a palindrome, or false otherwise.\n",
    "\n",
    "# Example 1:\n",
    "\n",
    "# Input: s = \"A man, a plan, a canal: Panama\"\n",
    "# Output: true\n",
    "# Explanation: \"amanaplanacanalpanama\" is a palindrome.\n",
    "# Example 2:\n",
    "\n",
    "# Input: s = \"race a car\"\n",
    "# Output: false\n",
    "# Explanation: \"raceacar\" is not a palindrome.\n"
   ]
  },
  {
   "cell_type": "code",
   "execution_count": null,
   "metadata": {},
   "outputs": [
    {
     "name": "stdout",
     "output_type": "stream",
     "text": [
      "amanaplanacanalpanama\n",
      "amanaplanacanalpanama\n",
      "True\n"
     ]
    }
   ],
   "source": [
    "s = \"A man, a plan, a canal: Panama\"\n",
    "res=''\n",
    "for i in s:\n",
    "    if i.isalnum():\n",
    "        res+=i.lower()\n",
    "print(res)\n",
    "print(res[::-1])#reverse\n",
    "if res == res[::-1]:\n",
    "    print(True)\n",
    "else:\n",
    "    print(False)"
   ]
  },
  {
   "cell_type": "markdown",
   "metadata": {},
   "source": [
    "11. Two Sum II - Input Array Is Sorted"
   ]
  },
  {
   "cell_type": "code",
   "execution_count": null,
   "metadata": {},
   "outputs": [],
   "source": [
    "# Given a 1-indexed array of integers numbers that is already sorted in non-decreasing order, find two numbers such that they add up to a specific target number. Let these two numbers be numbers[index1] and numbers[index2] where 1 <= index1 < index2 <= numbers.length.\n",
    "\n",
    "# Return the indices of the two numbers, index1 and index2, added by one as an integer array [index1, index2] of length 2.\n",
    "\n",
    "# The tests are generated such that there is exactly one solution. You may not use the same element twice.\n",
    "\n",
    "# Your solution must use only constant extra space.\n",
    "\n",
    " \n",
    "\n",
    "# Example 1:\n",
    "\n",
    "# Input: numbers = [2,7,11,15], target = 9\n",
    "# Output: [1,2]\n",
    "# Explanation: The sum of 2 and 7 is 9. Therefore, index1 = 1, index2 = 2. We return [1, 2]."
   ]
  },
  {
   "cell_type": "code",
   "execution_count": null,
   "metadata": {},
   "outputs": [
    {
     "name": "stdout",
     "output_type": "stream",
     "text": [
      "[1, 2]\n",
      "[]\n"
     ]
    }
   ],
   "source": [
    "numbers = [2,7,11,15]\n",
    "target = 9\n",
    "l=0\n",
    "r=len(numbers)-1\n",
    "while l <= r:\n",
    "    currsum = numbers[l] + numbers[r]\n",
    "    if currsum > target:\n",
    "        r-=1\n",
    "    elif currsum < target:\n",
    "        l+=1\n",
    "    else:\n",
    "        print([l+1,r+1])\n",
    "        break\n",
    "print([])"
   ]
  },
  {
   "cell_type": "markdown",
   "metadata": {},
   "source": [
    "12. 3Sum"
   ]
  },
  {
   "cell_type": "code",
   "execution_count": null,
   "metadata": {},
   "outputs": [],
   "source": [
    "# Given an integer array nums, return all the triplets [nums[i], nums[j], nums[k]] such that i != j, i != k, and j != k, and nums[i] + nums[j] + nums[k] == 0.\n",
    "\n",
    "# Notice that the solution set must not contain duplicate triplets.\n",
    "\n",
    " \n",
    "\n",
    "# Example 1:\n",
    "\n",
    "# Input: nums = [-1,0,1,2,-1,-4]\n",
    "# Output: [[-1,-1,2],[-1,0,1]]\n",
    "# Explanation: \n",
    "# nums[0] + nums[1] + nums[2] = (-1) + 0 + 1 = 0.\n",
    "# nums[1] + nums[2] + nums[4] = 0 + 1 + (-1) = 0.\n",
    "# nums[0] + nums[3] + nums[4] = (-1) + 2 + (-1) = 0.\n",
    "# The distinct triplets are [-1,0,1] and [-1,-1,2].\n",
    "# Notice that the order of the output and the order of the triplets does not matter."
   ]
  },
  {
   "cell_type": "code",
   "execution_count": null,
   "metadata": {},
   "outputs": [
    {
     "name": "stdout",
     "output_type": "stream",
     "text": [
      "[[-1, -1, 2], [-1, 0, 1]]\n"
     ]
    }
   ],
   "source": [
    "nums = [-1,0,1,2,-1,-4]\n",
    "res=[]\n",
    "nums.sort()\n",
    "for index,a in enumerate(nums):\n",
    "    if index > 0 and a == nums[index-1]:\n",
    "        continue\n",
    "    else:\n",
    "        l = index + 1\n",
    "        r = len(nums)-1\n",
    "        while l < r:\n",
    "            threesum = a + nums[l] + nums[r]\n",
    "            if threesum < 0:\n",
    "                l+=1\n",
    "            elif threesum > 0:\n",
    "                r-=1\n",
    "            else:\n",
    "                res.append([a,nums[l],nums[r]])\n",
    "                #[-2,-2,0,0,2,2]\n",
    "                l+=1 \n",
    "                while nums[l] == nums[l-1] and l<r:\n",
    "                    l+=1\n",
    "print(res)\n",
    "\n"
   ]
  },
  {
   "cell_type": "markdown",
   "metadata": {},
   "source": [
    "13. Container With Most Water"
   ]
  },
  {
   "cell_type": "code",
   "execution_count": null,
   "metadata": {},
   "outputs": [],
   "source": [
    "# You are given an integer array height of length n. There are n vertical lines drawn such that the two endpoints of the ith line are (i, 0) and (i, height[i]).\n",
    "\n",
    "# Find two lines that together with the x-axis form a container, such that the container contains the most water.\n",
    "\n",
    "# Return the maximum amount of water a container can store.\n",
    "# Notice that you may not slant the container.\n",
    "\n",
    "# Example 1:\n",
    "\n",
    "# https://s3-lc-upload.s3.amazonaws.com/uploads/2018/07/17/question_11.jpg\n",
    "\n",
    "# Input: height = [1,8,6,2,5,4,8,3,7]\n",
    "# Output: 49\n",
    "# Explanation: The above vertical lines are represented by array [1,8,6,2,5,4,8,3,7]. In this case, the max area of water (blue section) the container can contain is 49.\n"
   ]
  },
  {
   "cell_type": "code",
   "execution_count": null,
   "metadata": {},
   "outputs": [
    {
     "name": "stdout",
     "output_type": "stream",
     "text": [
      "49\n"
     ]
    }
   ],
   "source": [
    "#bruteforce\n",
    "height = [1,8,6,2,5,4,8,3,7]\n",
    "res=0\n",
    "\n",
    "for l in range(len(height)):\n",
    "    for r in range(l+1,len(height)):\n",
    "        area = (r-l) * min(height[l],height[r])\n",
    "        res = max(res,area)\n",
    "print(res)"
   ]
  },
  {
   "cell_type": "code",
   "execution_count": 27,
   "metadata": {},
   "outputs": [
    {
     "name": "stdout",
     "output_type": "stream",
     "text": [
      "49\n"
     ]
    }
   ],
   "source": [
    "height = [1,8,6,2,5,4,8,3,7]\n",
    "l=0\n",
    "r=len(height)-1\n",
    "res=0\n",
    "while l < r:\n",
    "    area = (r-l) * min(height[l],height[r])\n",
    "    res=max(area,res)\n",
    "    if height[l] < height[r] :\n",
    "        l+=1\n",
    "    elif height[l] > height[r]:\n",
    "        r-=1\n",
    "    else:\n",
    "        r-=1\n",
    "print(res)"
   ]
  },
  {
   "cell_type": "markdown",
   "metadata": {},
   "source": [
    "\n",
    "14. Trapping Rain Water"
   ]
  },
  {
   "cell_type": "code",
   "execution_count": null,
   "metadata": {},
   "outputs": [],
   "source": [
    "# Given n non-negative integers representing an elevation map where the width of each bar is 1, compute how much water it can trap after raining.\n",
    "\n",
    " \n",
    "\n",
    "# Example 1:\n",
    "\n",
    "# https://assets.leetcode.com/uploads/2018/10/22/rainwatertrap.png\n",
    "\n",
    "\n",
    "# Input: height = [0,1,0,2,1,0,1,3,2,1,2,1]\n",
    "# Output: 6\n",
    "# Explanation: The above elevation map (black section) is represented by array [0,1,0,2,1,0,1,3,2,1,2,1]. In this case, 6 units of rain water (blue section) are being trapped.\n",
    "# Example 2:\n",
    "\n",
    "# Input: height = [4,2,0,3,2,5]\n",
    "# Output: 9"
   ]
  },
  {
   "cell_type": "code",
   "execution_count": 14,
   "metadata": {},
   "outputs": [
    {
     "name": "stdout",
     "output_type": "stream",
     "text": [
      "6\n"
     ]
    }
   ],
   "source": [
    "height = [0,1,0,2,1,0,1,3,2,1,2,1]\n",
    "if not height:\n",
    "    print(0)\n",
    "l=0\n",
    "r=len(height)-1\n",
    "leftmax = height[l]\n",
    "rightmax=height[r]\n",
    "res=0\n",
    "\n",
    "while l<r:\n",
    "    if leftmax < rightmax:\n",
    "        l+=1\n",
    "        leftmax=max(leftmax,height[l])\n",
    "        res+=leftmax - height[l]\n",
    "    else:\n",
    "        leftmax > rightmax\n",
    "        r-=1\n",
    "        rightmax=max(rightmax,height[r])\n",
    "        res+=rightmax - height[r]\n",
    "    \n",
    "print(res)\n",
    "        \n",
    "\n",
    "    \n",
    "    \n",
    "\n",
    "\n",
    "\n"
   ]
  },
  {
   "cell_type": "markdown",
   "metadata": {},
   "source": [
    "BINARY SEARCH"
   ]
  },
  {
   "cell_type": "markdown",
   "metadata": {},
   "source": [
    "15. Binary Search"
   ]
  },
  {
   "cell_type": "code",
   "execution_count": null,
   "metadata": {},
   "outputs": [],
   "source": [
    "# Given an array of integers nums which is sorted in ascending order, and an integer target, write a function to search target in nums. If target exists, then return its index. Otherwise, return -1.\n",
    "\n",
    "# You must write an algorithm with O(log n) runtime complexity.\n",
    "\n",
    " \n",
    "\n",
    "# Example 1:\n",
    "\n",
    "# Input: nums = [-1,0,3,5,9,12], target = 9\n",
    "# Output: 4\n",
    "# Explanation: 9 exists in nums and its index is 4"
   ]
  },
  {
   "cell_type": "code",
   "execution_count": 1,
   "metadata": {},
   "outputs": [
    {
     "name": "stdout",
     "output_type": "stream",
     "text": [
      "4\n",
      "-1\n"
     ]
    }
   ],
   "source": [
    "nums=[-1,0,3,5,9,12]\n",
    "target = 9\n",
    "l=0\n",
    "r=len(nums)-1\n",
    "while l <= r:\n",
    "    mid = (l+r) // 2  # l + (r-l) // 2\n",
    "    if nums[mid] < target:\n",
    "        l = mid + 1\n",
    "    elif nums[mid] > target:\n",
    "        r = mid - 1\n",
    "    else:\n",
    "        print(mid)\n",
    "        break\n",
    "print(-1)"
   ]
  },
  {
   "cell_type": "markdown",
   "metadata": {},
   "source": [
    "16. Find Minimum in Rotated Sorted Array"
   ]
  },
  {
   "cell_type": "code",
   "execution_count": null,
   "metadata": {},
   "outputs": [],
   "source": [
    "# 153. Find Minimum in Rotated Sorted Array\n",
    "\n",
    "# Suppose an array of length n sorted in ascending order is rotated between 1 and n times. For example, the array nums = [0,1,2,4,5,6,7] might become:\n",
    "\n",
    "# [4,5,6,7,0,1,2] if it was rotated 4 times.\n",
    "# [0,1,2,4,5,6,7] if it was rotated 7 times.\n",
    "# Notice that rotating an array [a[0], a[1], a[2], ..., a[n-1]] 1 time results in the array [a[n-1], a[0], a[1], a[2], ..., a[n-2]].\n",
    "\n",
    "# Given the sorted rotated array nums of unique elements, return the minimum element of this array.\n",
    "\n",
    "# You must write an algorithm that runs in O(log n) time.\n",
    "\n",
    " \n",
    "# Example 1:\n",
    "\n",
    "# Input: nums = [3,4,5,1,2]\n",
    "# Output: 1\n",
    "# Explanation: The original array was [1,2,3,4,5] rotated 3 times."
   ]
  },
  {
   "cell_type": "code",
   "execution_count": 2,
   "metadata": {},
   "outputs": [
    {
     "name": "stdout",
     "output_type": "stream",
     "text": [
      "0\n",
      "-1\n"
     ]
    }
   ],
   "source": [
    "nums=[4,5,6,7,0,1,2]\n",
    "l=0\n",
    "r=len(nums)-1\n",
    "if nums[l]<=nums[r]:\n",
    "    print(nums[0])\n",
    "while l<=r:\n",
    "    mid=(l+r)//2\n",
    "    if nums[mid]>nums[mid+1]: #last element of part 1\n",
    "        print(nums[mid+1])\n",
    "        break\n",
    "    elif nums[mid]<nums[mid-1]: #first elment of part 2\n",
    "        print(nums[mid])\n",
    "        break\n",
    "    elif nums[l]<=nums[mid]:\n",
    "        l=mid+1\n",
    "    elif nums[mid]<=nums[r]:\n",
    "        r=mid-1\n",
    "print(-1)"
   ]
  },
  {
   "cell_type": "markdown",
   "metadata": {},
   "source": [
    "17. Search in Rotated Sorted Array"
   ]
  },
  {
   "cell_type": "code",
   "execution_count": 4,
   "metadata": {},
   "outputs": [],
   "source": [
    "# There is an integer array nums sorted in ascending order (with distinct values).\n",
    "\n",
    "# Prior to being passed to your function, nums is possibly rotated at an unknown pivot index k (1 <= k < nums.length) such that the resulting array is [nums[k], nums[k+1], ..., nums[n-1], nums[0], nums[1], ..., nums[k-1]] (0-indexed). For example, [0,1,2,4,5,6,7] might be rotated at pivot index 3 and become [4,5,6,7,0,1,2].\n",
    "\n",
    "# Given the array nums after the possible rotation and an integer target, return the index of target if it is in nums, or -1 if it is not in nums.\n",
    "\n",
    "# You must write an algorithm with O(log n) runtime complexity.\n",
    "# Example 1:\n",
    "\n",
    "# Input: nums = [4,5,6,7,0,1,2], target = 0\n",
    "# Output: 4\n",
    "# Example 2:\n",
    "\n",
    "# Input: nums = [4,5,6,7,0,1,2], target = 3\n",
    "# Output: -1"
   ]
  },
  {
   "cell_type": "code",
   "execution_count": 1,
   "metadata": {},
   "outputs": [
    {
     "name": "stdout",
     "output_type": "stream",
     "text": [
      "4\n",
      "-1\n"
     ]
    }
   ],
   "source": [
    "    \n",
    "nums = [4,5,6,7,0,1,2]\n",
    "target = 0\n",
    "l=0\n",
    "r=len(nums)-1\n",
    "while l <= r:\n",
    "    mid=(l+r)//2\n",
    "    if nums[mid] == target:\n",
    "        print(mid)\n",
    "        break\n",
    "    # check left sorted portion (l to mid portion is sorted)\n",
    "    elif nums[l] <= nums[mid]:\n",
    "        if target >= nums[l] and target < nums[mid]:\n",
    "            r=mid-1\n",
    "        else:\n",
    "            l=mid+1\n",
    "    # check right sorted portion (mid to r portion is sorted)\n",
    "    elif nums[mid] <= nums[r]:\n",
    "        if target > nums[mid] and target <= nums[r]:\n",
    "            l=mid + 1\n",
    "        else:\n",
    "            r=mid-1\n",
    "print(-1)\n"
   ]
  },
  {
   "cell_type": "code",
   "execution_count": null,
   "metadata": {},
   "outputs": [],
   "source": [
    "nums = [4,5,6,7,0,1,2]\n",
    "target = 0\n",
    "l=0\n",
    "r=len(nums)-1\n",
    "while l <= r:\n",
    "    mid=(l+r)//2\n",
    "    if target == nums[mid]:\n",
    "        print(mid)\n",
    "    #left sorted portion (l to mid portion is sorted)\n",
    "    if nums[l] <= nums[mid]:\n",
    "        if target > nums[mid] or target < nums[l]:\n",
    "            l=mid+1\n",
    "        else:\n",
    "            r=mid-1\n",
    "    #right sorted portion (mid to r portion is sorted)\n",
    "    else:\n",
    "        if target < nums[mid] or target > nums[r]:\n",
    "            r=mid-1\n",
    "        else:\n",
    "            l=mid+1\n",
    "print(-1)\n"
   ]
  },
  {
   "cell_type": "markdown",
   "metadata": {},
   "source": [
    "18. Search a 2D Matrix"
   ]
  },
  {
   "cell_type": "code",
   "execution_count": null,
   "metadata": {},
   "outputs": [],
   "source": [
    "# You are given an m x n integer matrix matrix with the following two properties:\n",
    "\n",
    "# Each row is sorted in non-decreasing order.\n",
    "# The first integer of each row is greater than the last integer of the previous row.\n",
    "# Given an integer target, return true if target is in matrix or false otherwise.\n",
    "\n",
    "# You must write a solution in O(log(m * n)) time complexity.\n",
    "\n",
    "\n",
    " \n",
    "# Example 1:\n",
    "# Input: matrix = [[1,3,5,7],[10,11,16,20],[23,30,34,60]], target = 3\n",
    "# Output: true\n"
   ]
  },
  {
   "cell_type": "code",
   "execution_count": 4,
   "metadata": {},
   "outputs": [
    {
     "name": "stdout",
     "output_type": "stream",
     "text": [
      "True\n",
      "False\n"
     ]
    }
   ],
   "source": [
    "matrix = [[1,3,5,7],[10,11,16,20],[23,30,34,60]]\n",
    "target = 3\n",
    "r=0\n",
    "c=len(matrix[0])-1\n",
    "while r < len(matrix) and c >= 0:\n",
    "    if matrix[r][c] == target:\n",
    "        print(True)\n",
    "        break\n",
    "    elif matrix[r][c] > target:\n",
    "        c-=1\n",
    "    else:   #matrix[r][c] < target:\n",
    "        r+=1\n",
    "print(False)"
   ]
  },
  {
   "cell_type": "code",
   "execution_count": 12,
   "metadata": {},
   "outputs": [
    {
     "name": "stdout",
     "output_type": "stream",
     "text": [
      "[23]\n",
      "True\n"
     ]
    }
   ],
   "source": [
    "matrix = [[1,3,5,7],[10,11,16,20],[23,30,34,60]]\n",
    "target = 23\n",
    "def binarySearch(arr,l,r,target):\n",
    "    l=0\n",
    "    r=len(arr)-1\n",
    "    while l<=r:\n",
    "        mid=(l+r)//2\n",
    "        if target < arr[mid]:\n",
    "            r=mid-1\n",
    "        elif target > arr[mid]:\n",
    "            l=mid+1\n",
    "        else:\n",
    "            return arr[mid]\n",
    "    return -1\n",
    "res=[]           \n",
    "for row in matrix:\n",
    "    index=binarySearch(row,0,len(row),target)\n",
    "    if index != -1:\n",
    "        res.append(index)\n",
    "    else:\n",
    "        continue\n",
    "print(res)\n",
    "if res != []:\n",
    "    print(True)\n",
    "else:\n",
    "    print(False)"
   ]
  },
  {
   "cell_type": "markdown",
   "metadata": {},
   "source": [
    "19. Koko Eating Bananas"
   ]
  },
  {
   "cell_type": "code",
   "execution_count": null,
   "metadata": {},
   "outputs": [],
   "source": [
    "# Koko loves to eat bananas. There are n piles of bananas, the ith pile has piles[i] bananas. The guards have gone and will come back in h hours.\n",
    "\n",
    "# Koko can decide her bananas-per-hour eating speed of k. Each hour, she chooses some pile of bananas and eats k bananas from that pile. If the pile has less than k bananas, she eats all of them instead and will not eat any more bananas during this hour.\n",
    "\n",
    "# Koko likes to eat slowly but still wants to finish eating all the bananas before the guards return.\n",
    "\n",
    "# Return the minimum integer k such that she can eat all the bananas within h hours.\n",
    "\n",
    " \n",
    "# Example 1:\n",
    "\n",
    "# Input: piles = [3,6,7,11], h = 8\n",
    "# Output: 4\n",
    "# Example 2:\n",
    "\n",
    "# Input: piles = [30,11,23,4,20], h = 5\n",
    "# Output: 30"
   ]
  },
  {
   "cell_type": "code",
   "execution_count": null,
   "metadata": {},
   "outputs": [],
   "source": [
    "# A couple tips/optimizations I noticed:\n",
    "\n",
    "# 1. We shouldn't start at l = 1. We should start at l = ceil(sum(piles)/h.  Take [3,6,7,11] and h = 8 as an example. Logically, we know that to finish all bananas within 8 hours, the minimum rate is [3 + 6 + 7 + 11] / 8 = 27 / 8 = 3.375. Koko can't eat partial bananas, so round up to 4.\n",
    "\n",
    "# 2. We don't need to use min() to track the result. We can simply store 'res = k' every time, instead of 'res = min(res, k)'. Think about this logically:\n",
    "#      a) If we cannot eat all the bananas within H hours at rate K, we increase our L (slow) pointer and do not store a result\n",
    "#      b)  If we can eat all the bananas within H hours at rate K, we decrease our R (fast) pointer and store a result\n",
    "#      c) If we hit an exact match (Koko eats all bananas in exactly H hours), we store our result and decrease our R (fast) pointer. Since we have just decreased our fast pointer, there are two options: \n",
    "#            Option 1: It is impossible for us to ever eat all bananas within H hours.\n",
    "#            Option 2: We find a valid rate, but this rate is less than the previous rate we discovered.\n",
    "\n",
    "# 3. Minor, more obvious point: We cannot break early the first time we eat all bananas in exactly H hours.  Take [3,6,7,11] and h = 8 as an example.  If our rate is 5, we will eat all bananas in 8 hours, but 5 is not the lowest possible rate of consumption."
   ]
  },
  {
   "cell_type": "code",
   "execution_count": 1,
   "metadata": {},
   "outputs": [
    {
     "name": "stdout",
     "output_type": "stream",
     "text": [
      "4\n"
     ]
    }
   ],
   "source": [
    "import math\n",
    "piles = [3,6,7,11]\n",
    "h = 8\n",
    "l = math.ceil(sum(piles)/h)\n",
    "r =  max(piles)\n",
    "res = r\n",
    "while l <= r:\n",
    "    k = l + (r - l) // 2\n",
    "    hrs = 0\n",
    "    for pile in piles:\n",
    "        hrs += math.ceil(pile / k)\n",
    "        \n",
    "    if hrs <= h:\n",
    "        res = k\n",
    "        r = k - 1 # min(res,k)\n",
    "    else:\n",
    "        l = k + 1\n",
    "       \n",
    "\n",
    "print(res)\n",
    "\n"
   ]
  },
  {
   "cell_type": "markdown",
   "metadata": {},
   "source": [
    "20. Time Based Key-Value Store"
   ]
  },
  {
   "cell_type": "code",
   "execution_count": null,
   "metadata": {},
   "outputs": [],
   "source": [
    "# Design a time-based key-value data structure that can store multiple values for the same key at different time stamps and retrieve the key's value at a certain timestamp.\n",
    "\n",
    "# Implement the TimeMap class:\n",
    "\n",
    "# TimeMap() Initializes the object of the data structure.\n",
    "# void set(String key, String value, int timestamp) Stores the key key with the value value at the given time timestamp.\n",
    "# String get(String key, int timestamp) Returns a value such that set was called previously, with timestamp_prev <= timestamp. If there are multiple such values, it returns the value associated with the largest timestamp_prev. If there are no values, it returns \"\".\n",
    " \n",
    "# Example 1:\n",
    "\n",
    "# Input\n",
    "# [\"TimeMap\", \"set\", \"get\", \"get\", \"set\", \"get\", \"get\"]\n",
    "# [[], [\"foo\", \"bar\", 1], [\"foo\", 1], [\"foo\", 3], [\"foo\", \"bar2\", 4], [\"foo\", 4], [\"foo\", 5]]\n",
    "# Output\n",
    "# [null, null, \"bar\", \"bar\", null, \"bar2\", \"bar2\"]\n",
    "\n",
    "# Explanation\n",
    "# TimeMap timeMap = new TimeMap();\n",
    "# timeMap.set(\"foo\", \"bar\", 1);  // store the key \"foo\" and value \"bar\" along with timestamp = 1.\n",
    "# timeMap.get(\"foo\", 1);         // return \"bar\"\n",
    "# timeMap.get(\"foo\", 3);         // return \"bar\", since there is no value corresponding to foo at timestamp 3 and timestamp 2, then the only value is at timestamp 1 is \"bar\".\n",
    "# timeMap.set(\"foo\", \"bar2\", 4); // store the key \"foo\" and value \"bar2\" along with timestamp = 4.\n",
    "# timeMap.get(\"foo\", 4);         // return \"bar2\"\n",
    "# timeMap.get(\"foo\", 5);         // return \"bar2\"\n",
    " \n",
    "# Constraints:\n",
    "# 1 <= key.length, value.length <= 100\n",
    "# key and value consist of lowercase English letters and digits.\n",
    "# 1 <= timestamp <= 107\n",
    "# All the timestamps timestamp of set are strictly increasing.\n",
    "# At most 2 * 105 calls will be made to set and get."
   ]
  },
  {
   "cell_type": "code",
   "execution_count": null,
   "metadata": {},
   "outputs": [],
   "source": [
    "class TimeMap:\n",
    "\n",
    "    def __init__(self):\n",
    "        self.store={} # key : list of [val,timestamp]\n",
    "        \n",
    "    def set(self, key: str, value: str, timestamp: int) -> None:\n",
    "        if key not in self.store:\n",
    "            self.store[key] = []\n",
    "        self.store[key].append([value,timestamp])       \n",
    "\n",
    "    def get(self, key: str, timestamp: int) -> str:\n",
    "        res = \"\"\n",
    "        values=self.store.get(key, [])\n",
    "        #binary search\n",
    "        l=0\n",
    "        r=len(values)-1\n",
    "        while l <= r:\n",
    "            m = (l+r) // 2\n",
    "            if values[m][1] <= timestamp:\n",
    "                res = values[m][0]\n",
    "                l = m + 1\n",
    "            else:\n",
    "                r = m - 1\n",
    "        return res\n",
    "\n",
    "\n",
    "# Your TimeMap object will be instantiated and called as such:\n",
    "# obj = TimeMap()\n",
    "# obj.set(key,value,timestamp)\n",
    "# param_2 = obj.get(key,timestamp)"
   ]
  },
  {
   "cell_type": "markdown",
   "metadata": {},
   "source": [
    "21. Median of Two Sorted Arrays"
   ]
  },
  {
   "cell_type": "code",
   "execution_count": null,
   "metadata": {},
   "outputs": [],
   "source": [
    "# Given two sorted arrays nums1 and nums2 of size m and n respectively, return the median of the two sorted arrays.\n",
    "\n",
    "# The overall run time complexity should be O(log (m+n)).\n",
    "\n",
    "# Example 1:\n",
    "\n",
    "# Input: nums1 = [1,3], nums2 = [2]\n",
    "# Output: 2.00000\n",
    "# Explanation: merged array = [1,2,3] and median is 2.\n",
    "# Example 2:\n",
    "\n",
    "# Input: nums1 = [1,2], nums2 = [3,4]\n",
    "# Output: 2.50000\n",
    "# Explanation: merged array = [1,2,3,4] and median is (2 + 3) / 2 = 2.5."
   ]
  },
  {
   "cell_type": "code",
   "execution_count": 33,
   "metadata": {},
   "outputs": [
    {
     "name": "stdout",
     "output_type": "stream",
     "text": [
      "2\n"
     ]
    }
   ],
   "source": [
    "nums1 = [1,3]\n",
    "nums2 = [2]\n",
    "merged = sorted(nums1 + nums2)\n",
    "mid=int(len(merged)/2)\n",
    "if len(merged) % 2 == 0:\n",
    "    print((merged[mid] + merged[mid-1]) / 2)\n",
    "else:\n",
    "    print(merged[mid])\n"
   ]
  },
  {
   "cell_type": "code",
   "execution_count": 26,
   "metadata": {},
   "outputs": [
    {
     "name": "stdout",
     "output_type": "stream",
     "text": [
      "3\n"
     ]
    }
   ],
   "source": [
    "\n",
    "\n",
    "\n",
    "    \n",
    "\n",
    "\n"
   ]
  },
  {
   "cell_type": "markdown",
   "metadata": {},
   "source": [
    "SLIDING WINDOW"
   ]
  },
  {
   "cell_type": "markdown",
   "metadata": {},
   "source": [
    "Max Sum Subarray of size K"
   ]
  },
  {
   "cell_type": "code",
   "execution_count": null,
   "metadata": {},
   "outputs": [],
   "source": [
    "# Max Sum Subarray of size K\n",
    "\n",
    "# Given an array of integers Arr of size N and a number K. Return the maximum sum of a subarray of size K.\n",
    "\n",
    "# NOTE*: A subarray is a contiguous part of any given array.\n",
    "\n",
    "# Example 1:\n",
    "\n",
    "# Input:\n",
    "# N = 4, K = 2\n",
    "# Arr = [100, 200, 300, 400]\n",
    "# Output:\n",
    "# 700\n",
    "# Explanation:\n",
    "# Arr3  + Arr4 =700,\n",
    "# which is maximum."
   ]
  },
  {
   "cell_type": "code",
   "execution_count": 35,
   "metadata": {},
   "outputs": [
    {
     "name": "stdout",
     "output_type": "stream",
     "text": [
      "48\n"
     ]
    }
   ],
   "source": [
    "#NAIVE  \n",
    "arr=[2,9,31,-4,21,7]\n",
    "k=3\n",
    "currsum=0\n",
    "maxsum=-9999999\n",
    "for i in range(len(arr)-3):\n",
    "    currsum=0\n",
    "    for j in range(i,i+k):\n",
    "        currsum+=arr[j]\n",
    "    maxsum=max(maxsum,currsum)\n",
    "print(maxsum)"
   ]
  },
  {
   "cell_type": "markdown",
   "metadata": {},
   "source": [
    "Minimum Size Subarray Sum"
   ]
  },
  {
   "cell_type": "code",
   "execution_count": null,
   "metadata": {},
   "outputs": [],
   "source": [
    "# Given an array of positive integers nums and a positive integer target, return the minimal length of a \n",
    "# subarray\n",
    "#  whose sum is greater than or equal to target. If there is no such subarray, return 0 instead.\n",
    "\n",
    "# Example 1:\n",
    "\n",
    "# Input: target = 7, nums = [2,3,1,2,4,3]\n",
    "# Output: 2\n",
    "# Explanation: The subarray [4,3] has the minimal length under the problem constraint.\n",
    "# Example 2:\n",
    "\n",
    "# Input: target = 4, nums = [1,4,4]\n",
    "# Output: 1"
   ]
  },
  {
   "cell_type": "code",
   "execution_count": 3,
   "metadata": {},
   "outputs": [
    {
     "name": "stdout",
     "output_type": "stream",
     "text": [
      "2\n"
     ]
    }
   ],
   "source": [
    "target = 7\n",
    "nums = [2,3,1,2,4,3]\n",
    "l=0\n",
    "total=0\n",
    "res = float(\"inf\")\n",
    "\n",
    "for r in range(len(nums)):\n",
    "    total += nums[r]\n",
    "    while total >= target:\n",
    "        res = min(r - l + 1,res)\n",
    "        total -= nums[l]\n",
    "        l += 1\n",
    "if res == float(\"inf\"):\n",
    "    print(0)\n",
    "else:\n",
    "    print(res)\n"
   ]
  },
  {
   "cell_type": "code",
   "execution_count": 34,
   "metadata": {},
   "outputs": [
    {
     "name": "stdout",
     "output_type": "stream",
     "text": [
      "42\n",
      "48\n"
     ]
    }
   ],
   "source": [
    "arr=[2,9,31,-4,21,7]\n",
    "k=3\n",
    "maxsum=0\n",
    "# for i in range(k):\n",
    "#     wsum+=arr[i]\n",
    "wsum=sum(arr[:k])\n",
    "print(wsum)\n",
    "maxsum=wsum\n",
    "left=0\n",
    "for right in range(k,len(arr)):\n",
    "    # wsum = wsum - Arr[i-K] + Arr[i]\n",
    "    wsum+=arr[right]\n",
    "    wsum-=arr[left]\n",
    "    maxsum=max(maxsum,wsum)\n",
    "    left+=1\n",
    "print(maxsum)"
   ]
  },
  {
   "cell_type": "markdown",
   "metadata": {},
   "source": [
    "22. Best Time to Buy and Sell Stock"
   ]
  },
  {
   "cell_type": "code",
   "execution_count": null,
   "metadata": {},
   "outputs": [],
   "source": [
    "# You are given an array prices where prices[i] is the price of a given stock on the ith day.\n",
    "# You want to maximize your profit by choosing a single day to buy one stock and choosing a different day in the future to sell that stock.\n",
    "# Return the maximum profit you can achieve from this transaction. If you cannot achieve any profit, return 0.\n",
    "\n",
    "# Example 1:\n",
    "\n",
    "# Input: prices = [7,1,5,3,6,4]\n",
    "# Output: 5\n",
    "# Explanation: Buy on day 2 (price = 1) and sell on day 5 (price = 6), profit = 6-1 = 5.\n",
    "# Note that buying on day 2 and selling on day 1 is not allowed because you must buy before you sell.\n",
    "\n",
    "# Example 2:\n",
    "\n",
    "# Input: prices = [7,6,4,3,1]\n",
    "# Output: 0\n",
    "# Explanation: In this case, no transactions are done and the max profit = 0."
   ]
  },
  {
   "cell_type": "code",
   "execution_count": 1,
   "metadata": {},
   "outputs": [
    {
     "name": "stdout",
     "output_type": "stream",
     "text": [
      "5\n"
     ]
    }
   ],
   "source": [
    "prices = [7,1,5,3,6,4]\n",
    "buy=0\n",
    "sell=1\n",
    "maxprofit=0\n",
    "\n",
    "while sell < len(prices):\n",
    "    if prices[buy] < prices[sell]:\n",
    "        profit = prices[sell] - prices[buy]\n",
    "        maxprofit = max(maxprofit,profit)\n",
    "    else:\n",
    "        buy = sell\n",
    "    sell += 1\n",
    "print(maxprofit)"
   ]
  },
  {
   "cell_type": "code",
   "execution_count": null,
   "metadata": {},
   "outputs": [],
   "source": [
    "# Given a string s containing just the characters '(', ')', '{', '}', '[' and ']', determine if the input string is valid.\n",
    "\n",
    "# An input string is valid if:\n",
    "\n",
    "# Open brackets must be closed by the same type of brackets.\n",
    "# Open brackets must be closed in the correct order.\n",
    "# Every close bracket has a corresponding open bracket of the same type.\n",
    " \n",
    "\n",
    "# Example 1:\n",
    "\n",
    "# Input: s = \"()\"\n",
    "# Output: true\n",
    "# Example 2:\n",
    "\n",
    "# Input: s = \"()[]{}\"\n",
    "# Output: true\n",
    "# Example 3:\n",
    "\n",
    "# Input: s = \"(]\"\n",
    "# Output: false"
   ]
  },
  {
   "cell_type": "code",
   "execution_count": 2,
   "metadata": {},
   "outputs": [
    {
     "name": "stdout",
     "output_type": "stream",
     "text": [
      "['(', '[', '{', '(', ')', '}', ']', ')']\n",
      "True\n",
      "[]\n"
     ]
    }
   ],
   "source": [
    "s=\"([{()}])\"\n",
    "lst=[]\n",
    "lst[:]=s\n",
    "print(lst)\n",
    "stack=[]\n",
    "for i in lst:\n",
    "    if i in ['(','{','[']:\n",
    "        stack.append(i)\n",
    "\n",
    "    elif i == ')' and len(stack) != 0 and stack[-1] == '(':\n",
    "        stack.pop()\n",
    "    elif i == ']' and len(stack) != 0 and stack[-1] == '[':\n",
    "        stack.pop()\n",
    "    elif i == '}' and len(stack) != 0 and stack[-1] == '{':\n",
    "        stack.pop()\n",
    "    else:\n",
    "        print(False)\n",
    "        \n",
    "print(stack==[]) \n",
    "print(stack)             "
   ]
  },
  {
   "cell_type": "code",
   "execution_count": 2,
   "metadata": {},
   "outputs": [
    {
     "name": "stdout",
     "output_type": "stream",
     "text": [
      "True\n"
     ]
    }
   ],
   "source": [
    "s='{[]}'\n",
    "lst=[]\n",
    "lst[:]=s\n",
    "stack=[]\n",
    "for i in lst:\n",
    "    if i in ['(','[','{']:\n",
    "        stack.append(i)\n",
    "    elif i==')' and len(stack)!=0 and stack[-1]=='(':\n",
    "        stack.pop()\n",
    "    elif i==']' and len(stack)!=0 and stack[-1]=='[':\n",
    "        stack.pop()\n",
    "    elif i=='}' and len(stack)!=0 and stack[-1]=='{':\n",
    "        stack.pop()\n",
    "    else:\n",
    "        print(False)\n",
    "print(stack==[])"
   ]
  },
  {
   "cell_type": "code",
   "execution_count": 48,
   "metadata": {},
   "outputs": [
    {
     "name": "stdout",
     "output_type": "stream",
     "text": [
      "[1, 2]\n"
     ]
    }
   ],
   "source": [
    "stack=')'\n",
    "stack.pop()\n",
    "stack.pop()\n",
    "print(stack)"
   ]
  },
  {
   "cell_type": "code",
   "execution_count": null,
   "metadata": {},
   "outputs": [],
   "source": [
    "# You are given the heads of two sorted linked lists list1 and list2.\n",
    "\n",
    "# Merge the two lists in a one sorted list. The list should be made by splicing together the nodes of the first two lists.\n",
    "\n",
    "# Return the head of the merged linked list.\n",
    "# Input: list1 = [1,2,4], list2 = [1,3,4]\n",
    "# Output: [1,1,2,3,4,4]\n",
    "# Example 2:\n",
    "\n",
    "# Input: list1 = [], list2 = []\n",
    "# Output: []\n",
    "# Example 3:\n",
    "\n",
    "# Input: list1 = [], list2 = [0]\n",
    "# Output: [0]"
   ]
  },
  {
   "cell_type": "code",
   "execution_count": 5,
   "metadata": {},
   "outputs": [
    {
     "name": "stdout",
     "output_type": "stream",
     "text": [
      "[1, 1, 2, 3, 4, 4]\n"
     ]
    }
   ],
   "source": [
    "list1 = [1,2,4]\n",
    "list2 = [1,3,4]\n",
    "res=[]\n",
    "res=list1+list2\n",
    "result=sorted(res)\n",
    "print(result)"
   ]
  },
  {
   "cell_type": "code",
   "execution_count": 6,
   "metadata": {},
   "outputs": [
    {
     "name": "stdout",
     "output_type": "stream",
     "text": [
      "[1, 2, 3]\n"
     ]
    }
   ],
   "source": [
    "digits = [1,2,3]\n",
    "ls=map(str,digits)\n",
    "list_string=(list(ls))\n",
    "str1=''\n",
    "a=str1.join(list_string)\n",
    "noa=int(a)\n",
    "b=noa+1\n",
    "strb=str(b)\n",
    "output=[]\n",
    "for i in strb:\n",
    "    output.append(i)\n",
    "lis=map(int,digits)\n",
    "output2=(list(lis))\n",
    "print(output2)"
   ]
  },
  {
   "cell_type": "code",
   "execution_count": 10,
   "metadata": {},
   "outputs": [
    {
     "name": "stdout",
     "output_type": "stream",
     "text": [
      "[4, 3, 2, 1]\n"
     ]
    }
   ],
   "source": [
    "x=[1,2,3,4]\n",
    "print(x[::-1])"
   ]
  },
  {
   "cell_type": "code",
   "execution_count": 12,
   "metadata": {},
   "outputs": [
    {
     "name": "stdout",
     "output_type": "stream",
     "text": [
      "1000\n"
     ]
    }
   ],
   "source": [
    "K = 4\n",
    "Arr = [100, 200, 300, 400]\n",
    "wsum=0\n",
    "msum=-99999999\n",
    "for i in range(K):\n",
    "    wsum = wsum + Arr[i]\n",
    "msum=wsum\n",
    "for i in range(K,len(Arr)):\n",
    "    wsum = wsum - Arr[i-K] + Arr[i]\n",
    "    msum = max(msum,wsum)\n",
    "print(msum)\n"
   ]
  },
  {
   "cell_type": "code",
   "execution_count": 30,
   "metadata": {},
   "outputs": [
    {
     "name": "stdout",
     "output_type": "stream",
     "text": [
      "42\n",
      "48\n"
     ]
    }
   ],
   "source": [
    "\n"
   ]
  },
  {
   "cell_type": "code",
   "execution_count": 32,
   "metadata": {},
   "outputs": [
    {
     "name": "stdout",
     "output_type": "stream",
     "text": [
      "48\n"
     ]
    }
   ],
   "source": []
  },
  {
   "cell_type": "markdown",
   "metadata": {},
   "source": []
  }
 ],
 "metadata": {
  "kernelspec": {
   "display_name": "Python 3",
   "language": "python",
   "name": "python3"
  },
  "language_info": {
   "codemirror_mode": {
    "name": "ipython",
    "version": 3
   },
   "file_extension": ".py",
   "mimetype": "text/x-python",
   "name": "python",
   "nbconvert_exporter": "python",
   "pygments_lexer": "ipython3",
   "version": "3.11.5"
  },
  "orig_nbformat": 4,
  "vscode": {
   "interpreter": {
    "hash": "916dbcbb3f70747c44a77c7bcd40155683ae19c65e1c03b4aa3499c5328201f1"
   }
  }
 },
 "nbformat": 4,
 "nbformat_minor": 2
}
